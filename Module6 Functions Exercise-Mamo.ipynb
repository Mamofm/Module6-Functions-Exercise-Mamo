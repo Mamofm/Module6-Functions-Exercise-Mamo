{
 "cells": [
  {
   "cell_type": "markdown",
   "metadata": {},
   "source": [
    "1. Round 4.5667 to the nearest hundreth using a build-in function, round()."
   ]
  },
  {
   "cell_type": "code",
   "execution_count": 1,
   "metadata": {},
   "outputs": [
    {
     "data": {
      "text/plain": [
       "4.57"
      ]
     },
     "execution_count": 1,
     "metadata": {},
     "output_type": "execute_result"
    }
   ],
   "source": [
    "round (4.5667,2)"
   ]
  },
  {
   "cell_type": "markdown",
   "metadata": {},
   "source": [
    "2. Convert \"657\" to an integer data type"
   ]
  },
  {
   "cell_type": "code",
   "execution_count": 2,
   "metadata": {},
   "outputs": [
    {
     "data": {
      "text/plain": [
       "657"
      ]
     },
     "execution_count": 2,
     "metadata": {},
     "output_type": "execute_result"
    }
   ],
   "source": [
    "int(\"657\")"
   ]
  },
  {
   "cell_type": "markdown",
   "metadata": {},
   "source": [
    "3.\n",
    "Write a program to get two numbers from a user. Then, create a secret code where a code consists of 6 numbers and each number is randomly generated number between two numbers from a user. "
   ]
  },
  {
   "cell_type": "code",
   "execution_count": 6,
   "metadata": {},
   "outputs": [
    {
     "name": "stdout",
     "output_type": "stream",
     "text": [
      "enter num1:1\n",
      "enter num2:9\n",
      "The Secreate code is 789518\n"
     ]
    }
   ],
   "source": [
    "# Do you need to import any library?\n",
    "import random as r\n",
    "r.random()\n",
    "\n",
    "# get two numbers from a user - what data type is it?\n",
    "num1 = int(input (\"enter num1:\"))\n",
    "num2 = int(input (\"enter num2:\"))\n",
    "\n",
    "# generate six random numbers\n",
    "x1 = r.randint(num1,num2)\n",
    "x2 = r.randint(num1,num2)\n",
    "x3 = r.randint(num1,num2)\n",
    "x4 = r.randint(num1,num2)\n",
    "x5 = r.randint(num1,num2)\n",
    "x6 = r.randint(num1,num2)\n",
    "\n",
    "print (f\"The Secreate code is {x1}{x2}{x3}{x4}{x5}{x6}\")"
   ]
  },
  {
   "cell_type": "markdown",
   "metadata": {},
   "source": [
    "4.\n",
    "Write a program to center align below text where number of characters per line is 40:\n",
    "\n",
    "    Hickory, dickory, dock,\n",
    "    The mouse ran up the clock.\n",
    "    The clock struck one,\n",
    "    The mouse ran down,\n",
    "    Hickory, dickory, dock\n",
    "\n",
    "<b>Do not use string's center method! </b>"
   ]
  },
  {
   "cell_type": "code",
   "execution_count": 4,
   "metadata": {},
   "outputs": [
    {
     "name": "stdout",
     "output_type": "stream",
     "text": [
      "****************************************\n",
      "         Hickory, dickory, dock,\n",
      "       The mouse ran up the clock.\n",
      "          The clock struck one,\n",
      "           The mouse ran down,\n",
      "         Hickory, dickory, dock\n"
     ]
    }
   ],
   "source": [
    "line1 = \"Hickory, dickory, dock,\"\n",
    "line2 = \"The mouse ran up the clock.\"\n",
    "line3 = \"The clock struck one,\"\n",
    "line4 = \"The mouse ran down,\"\n",
    "line5 = \"Hickory, dickory, dock\"\n",
    "\n",
    "def center(text):\n",
    "    numOfChar = 40 - len(text)\n",
    "    if ((numOfChar%2) == 0):\n",
    "        numBlankToPadLeft = numBlankToPadLeft = int(numOfChar/2)\n",
    "    if ((numOfChar%2) != 0): \n",
    "        numBlankToPadLeft = int((numOfChar-1)/2.0) + 1 # odd number of character so use it the padding at begining \n",
    "        numBlankToPadRight = int((numOfChar-1)/2.0) \n",
    "    return (\" \" * numBlankToPadLeft + text ) # padd the blank on both side to Center \n",
    "        \n",
    "print (\"*\"*40)\n",
    "print (center (line1))\n",
    "print (center (line2))\n",
    "print (center (line3))\n",
    "print (center (line4))\n",
    "print (center (line5))"
   ]
  },
  {
   "cell_type": "markdown",
   "metadata": {},
   "source": [
    "5. Write a function to calculate the miles per gallon.\n",
    "Get a miles driven and gallons used from a user and call your function to calculate the miles per gallon. "
   ]
  },
  {
   "cell_type": "code",
   "execution_count": 5,
   "metadata": {},
   "outputs": [
    {
     "name": "stdout",
     "output_type": "stream",
     "text": [
      "Enter miles driven: 150\n",
      "Enter gallons used: 10\n",
      "Miles per gallons is: 15.00\n"
     ]
    }
   ],
   "source": [
    "def miles_per_galon (milesDriven, gallonsUsed):\n",
    "    return (milesDriven/gallonsUsed)\n",
    "\n",
    "m = int(input (\"Enter miles driven: \"))\n",
    "g = int(input (\"Enter gallons used: \"))\n",
    "mg = miles_per_galon (m,g)\n",
    "print (f\"Miles per gallons is: {mg:.2f}\")"
   ]
  },
  {
   "cell_type": "code",
   "execution_count": null,
   "metadata": {},
   "outputs": [],
   "source": []
  }
 ],
 "metadata": {
  "kernelspec": {
   "display_name": "Python 3",
   "language": "python",
   "name": "python3"
  },
  "language_info": {
   "codemirror_mode": {
    "name": "ipython",
    "version": 3
   },
   "file_extension": ".py",
   "mimetype": "text/x-python",
   "name": "python",
   "nbconvert_exporter": "python",
   "pygments_lexer": "ipython3",
   "version": "3.8.8"
  }
 },
 "nbformat": 4,
 "nbformat_minor": 4
}
